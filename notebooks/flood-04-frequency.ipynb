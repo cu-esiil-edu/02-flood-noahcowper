{
  "cells": [
    {
      "cell_type": "markdown",
      "id": "6647c813-63d9-46b4-a7f8-3f993a461ad4",
      "metadata": {},
      "source": [
        "# The Midwest underwater\n",
        "\n",
        "A look at 2019 floods in South Dakota, USA\n",
        "\n",
        "Elsa Culler  \n",
        "Nate Quarderer  \n",
        "2025-05-20\n",
        "\n",
        "## Set up\n",
        "\n",
        "To get started on this notebook, you’ll need to restore any variables\n",
        "from previous notebooks to your workspace."
      ]
    },
    {
      "cell_type": "code",
      "execution_count": 1,
      "id": "f472a965",
      "metadata": {},
      "outputs": [
        {
          "data": {
            "text/html": [
              "<script type=\"esms-options\">{\"shimMode\": true}</script><style>*[data-root-id],\n",
              "*[data-root-id] > * {\n",
              "  box-sizing: border-box;\n",
              "  font-family: var(--jp-ui-font-family);\n",
              "  font-size: var(--jp-ui-font-size1);\n",
              "  color: var(--vscode-editor-foreground, var(--jp-ui-font-color1));\n",
              "}\n",
              "\n",
              "/* Override VSCode background color */\n",
              ".cell-output-ipywidget-background:has(\n",
              "    > .cell-output-ipywidget-background > .lm-Widget > *[data-root-id]\n",
              "  ),\n",
              ".cell-output-ipywidget-background:has(> .lm-Widget > *[data-root-id]) {\n",
              "  background-color: transparent !important;\n",
              "}\n",
              "</style>"
            ]
          },
          "metadata": {},
          "output_type": "display_data"
        },
        {
          "data": {
            "application/javascript": "(function(root) {\n  function now() {\n    return new Date();\n  }\n\n  const force = true;\n  const py_version = '3.7.3'.replace('rc', '-rc.').replace('.dev', '-dev.');\n  const reloading = false;\n  const Bokeh = root.Bokeh;\n\n  // Set a timeout for this load but only if we are not already initializing\n  if (typeof (root._bokeh_timeout) === \"undefined\" || (force || !root._bokeh_is_initializing)) {\n    root._bokeh_timeout = Date.now() + 5000;\n    root._bokeh_failed_load = false;\n  }\n\n  function run_callbacks() {\n    try {\n      root._bokeh_onload_callbacks.forEach(function(callback) {\n        if (callback != null)\n          callback();\n      });\n    } finally {\n      delete root._bokeh_onload_callbacks;\n    }\n    console.debug(\"Bokeh: all callbacks have finished\");\n  }\n\n  function load_libs(css_urls, js_urls, js_modules, js_exports, callback) {\n    if (css_urls == null) css_urls = [];\n    if (js_urls == null) js_urls = [];\n    if (js_modules == null) js_modules = [];\n    if (js_exports == null) js_exports = {};\n\n    root._bokeh_onload_callbacks.push(callback);\n\n    if (root._bokeh_is_loading > 0) {\n      // Don't load bokeh if it is still initializing\n      console.debug(\"Bokeh: BokehJS is being loaded, scheduling callback at\", now());\n      return null;\n    } else if (js_urls.length === 0 && js_modules.length === 0 && Object.keys(js_exports).length === 0) {\n      // There is nothing to load\n      run_callbacks();\n      return null;\n    }\n\n    function on_load() {\n      root._bokeh_is_loading--;\n      if (root._bokeh_is_loading === 0) {\n        console.debug(\"Bokeh: all BokehJS libraries/stylesheets loaded\");\n        run_callbacks()\n      }\n    }\n    window._bokeh_on_load = on_load\n\n    function on_error(e) {\n      const src_el = e.srcElement\n      console.error(\"failed to load \" + (src_el.href || src_el.src));\n    }\n\n    const skip = [];\n    if (window.requirejs) {\n      window.requirejs.config({'packages': {}, 'paths': {}, 'shim': {}});\n      root._bokeh_is_loading = css_urls.length + 0;\n    } else {\n      root._bokeh_is_loading = css_urls.length + js_urls.length + js_modules.length + Object.keys(js_exports).length;\n    }\n\n    const existing_stylesheets = []\n    const links = document.getElementsByTagName('link')\n    for (let i = 0; i < links.length; i++) {\n      const link = links[i]\n      if (link.href != null) {\n        existing_stylesheets.push(link.href)\n      }\n    }\n    for (let i = 0; i < css_urls.length; i++) {\n      const url = css_urls[i];\n      const escaped = encodeURI(url)\n      if (existing_stylesheets.indexOf(escaped) !== -1) {\n        on_load()\n        continue;\n      }\n      const element = document.createElement(\"link\");\n      element.onload = on_load;\n      element.onerror = on_error;\n      element.rel = \"stylesheet\";\n      element.type = \"text/css\";\n      element.href = url;\n      console.debug(\"Bokeh: injecting link tag for BokehJS stylesheet: \", url);\n      document.body.appendChild(element);\n    }    var existing_scripts = []\n    const scripts = document.getElementsByTagName('script')\n    for (let i = 0; i < scripts.length; i++) {\n      var script = scripts[i]\n      if (script.src != null) {\n        existing_scripts.push(script.src)\n      }\n    }\n    for (let i = 0; i < js_urls.length; i++) {\n      const url = js_urls[i];\n      const escaped = encodeURI(url)\n      if (skip.indexOf(escaped) !== -1 || existing_scripts.indexOf(escaped) !== -1) {\n        if (!window.requirejs) {\n          on_load();\n        }\n        continue;\n      }\n      const element = document.createElement('script');\n      element.onload = on_load;\n      element.onerror = on_error;\n      element.async = false;\n      element.src = url;\n      console.debug(\"Bokeh: injecting script tag for BokehJS library: \", url);\n      document.head.appendChild(element);\n    }\n    for (let i = 0; i < js_modules.length; i++) {\n      const url = js_modules[i];\n      const escaped = encodeURI(url)\n      if (skip.indexOf(escaped) !== -1 || existing_scripts.indexOf(escaped) !== -1) {\n        if (!window.requirejs) {\n          on_load();\n        }\n        continue;\n      }\n      var element = document.createElement('script');\n      element.onload = on_load;\n      element.onerror = on_error;\n      element.async = false;\n      element.src = url;\n      element.type = \"module\";\n      console.debug(\"Bokeh: injecting script tag for BokehJS library: \", url);\n      document.head.appendChild(element);\n    }\n    for (const name in js_exports) {\n      const url = js_exports[name];\n      const escaped = encodeURI(url)\n      if (skip.indexOf(escaped) >= 0 || root[name] != null) {\n        if (!window.requirejs) {\n          on_load();\n        }\n        continue;\n      }\n      var element = document.createElement('script');\n      element.onerror = on_error;\n      element.async = false;\n      element.type = \"module\";\n      console.debug(\"Bokeh: injecting script tag for BokehJS library: \", url);\n      element.textContent = `\n      import ${name} from \"${url}\"\n      window.${name} = ${name}\n      window._bokeh_on_load()\n      `\n      document.head.appendChild(element);\n    }\n    if (!js_urls.length && !js_modules.length) {\n      on_load()\n    }\n  };\n\n  function inject_raw_css(css) {\n    const element = document.createElement(\"style\");\n    element.appendChild(document.createTextNode(css));\n    document.body.appendChild(element);\n  }\n\n  const js_urls = [\"https://cdn.holoviz.org/panel/1.7.0/dist/bundled/reactiveesm/es-module-shims@^1.10.0/dist/es-module-shims.min.js\", \"https://cdn.bokeh.org/bokeh/release/bokeh-3.7.3.min.js\", \"https://cdn.bokeh.org/bokeh/release/bokeh-gl-3.7.3.min.js\", \"https://cdn.bokeh.org/bokeh/release/bokeh-widgets-3.7.3.min.js\", \"https://cdn.bokeh.org/bokeh/release/bokeh-tables-3.7.3.min.js\", \"https://cdn.holoviz.org/panel/1.7.0/dist/panel.min.js\"];\n  const js_modules = [];\n  const js_exports = {};\n  const css_urls = [];\n  const inline_js = [    function(Bokeh) {\n      Bokeh.set_log_level(\"info\");\n    },\nfunction(Bokeh) {} // ensure no trailing comma for IE\n  ];\n\n  function run_inline_js() {\n    if ((root.Bokeh !== undefined) || (force === true)) {\n      for (let i = 0; i < inline_js.length; i++) {\n        try {\n          inline_js[i].call(root, root.Bokeh);\n        } catch(e) {\n          if (!reloading) {\n            throw e;\n          }\n        }\n      }\n      // Cache old bokeh versions\n      if (Bokeh != undefined && !reloading) {\n        var NewBokeh = root.Bokeh;\n        if (Bokeh.versions === undefined) {\n          Bokeh.versions = new Map();\n        }\n        if (NewBokeh.version !== Bokeh.version) {\n          Bokeh.versions.set(NewBokeh.version, NewBokeh)\n        }\n        root.Bokeh = Bokeh;\n      }\n    } else if (Date.now() < root._bokeh_timeout) {\n      setTimeout(run_inline_js, 100);\n    } else if (!root._bokeh_failed_load) {\n      console.log(\"Bokeh: BokehJS failed to load within specified timeout.\");\n      root._bokeh_failed_load = true;\n    }\n    root._bokeh_is_initializing = false\n  }\n\n  function load_or_wait() {\n    // Implement a backoff loop that tries to ensure we do not load multiple\n    // versions of Bokeh and its dependencies at the same time.\n    // In recent versions we use the root._bokeh_is_initializing flag\n    // to determine whether there is an ongoing attempt to initialize\n    // bokeh, however for backward compatibility we also try to ensure\n    // that we do not start loading a newer (Panel>=1.0 and Bokeh>3) version\n    // before older versions are fully initialized.\n    if (root._bokeh_is_initializing && Date.now() > root._bokeh_timeout) {\n      // If the timeout and bokeh was not successfully loaded we reset\n      // everything and try loading again\n      root._bokeh_timeout = Date.now() + 5000;\n      root._bokeh_is_initializing = false;\n      root._bokeh_onload_callbacks = undefined;\n      root._bokeh_is_loading = 0\n      console.log(\"Bokeh: BokehJS was loaded multiple times but one version failed to initialize.\");\n      load_or_wait();\n    } else if (root._bokeh_is_initializing || (typeof root._bokeh_is_initializing === \"undefined\" && root._bokeh_onload_callbacks !== undefined)) {\n      setTimeout(load_or_wait, 100);\n    } else {\n      root._bokeh_is_initializing = true\n      root._bokeh_onload_callbacks = []\n      const bokeh_loaded = root.Bokeh != null && (root.Bokeh.version === py_version || (root.Bokeh.versions !== undefined && root.Bokeh.versions.has(py_version)));\n      if (!reloading && !bokeh_loaded) {\n        if (root.Bokeh) {\n          root.Bokeh = undefined;\n        }\n        console.debug(\"Bokeh: BokehJS not loaded, scheduling load and callback at\", now());\n      }\n      load_libs(css_urls, js_urls, js_modules, js_exports, function() {\n        console.debug(\"Bokeh: BokehJS plotting callback run at\", now());\n        run_inline_js();\n      });\n    }\n  }\n  // Give older versions of the autoload script a head-start to ensure\n  // they initialize before we start loading newer version.\n  setTimeout(load_or_wait, 100)\n}(window));",
            "application/vnd.holoviews_load.v0+json": ""
          },
          "metadata": {},
          "output_type": "display_data"
        },
        {
          "data": {
            "application/javascript": "\nif ((window.PyViz === undefined) || (window.PyViz instanceof HTMLElement)) {\n  window.PyViz = {comms: {}, comm_status:{}, kernels:{}, receivers: {}, plot_index: []}\n}\n\n\n    function JupyterCommManager() {\n    }\n\n    JupyterCommManager.prototype.register_target = function(plot_id, comm_id, msg_handler) {\n      if (window.comm_manager || ((window.Jupyter !== undefined) && (Jupyter.notebook.kernel != null))) {\n        var comm_manager = window.comm_manager || Jupyter.notebook.kernel.comm_manager;\n        comm_manager.register_target(comm_id, function(comm) {\n          comm.on_msg(msg_handler);\n        });\n      } else if ((plot_id in window.PyViz.kernels) && (window.PyViz.kernels[plot_id])) {\n        window.PyViz.kernels[plot_id].registerCommTarget(comm_id, function(comm) {\n          comm.onMsg = msg_handler;\n        });\n      } else if (typeof google != 'undefined' && google.colab.kernel != null) {\n        google.colab.kernel.comms.registerTarget(comm_id, (comm) => {\n          var messages = comm.messages[Symbol.asyncIterator]();\n          function processIteratorResult(result) {\n            var message = result.value;\n            console.log(message)\n            var content = {data: message.data, comm_id};\n            var buffers = []\n            for (var buffer of message.buffers || []) {\n              buffers.push(new DataView(buffer))\n            }\n            var metadata = message.metadata || {};\n            var msg = {content, buffers, metadata}\n            msg_handler(msg);\n            return messages.next().then(processIteratorResult);\n          }\n          return messages.next().then(processIteratorResult);\n        })\n      }\n    }\n\n    JupyterCommManager.prototype.get_client_comm = function(plot_id, comm_id, msg_handler) {\n      if (comm_id in window.PyViz.comms) {\n        return window.PyViz.comms[comm_id];\n      } else if (window.comm_manager || ((window.Jupyter !== undefined) && (Jupyter.notebook.kernel != null))) {\n        var comm_manager = window.comm_manager || Jupyter.notebook.kernel.comm_manager;\n        var comm = comm_manager.new_comm(comm_id, {}, {}, {}, comm_id);\n        if (msg_handler) {\n          comm.on_msg(msg_handler);\n        }\n      } else if ((plot_id in window.PyViz.kernels) && (window.PyViz.kernels[plot_id])) {\n        var comm = window.PyViz.kernels[plot_id].connectToComm(comm_id);\n        comm.open();\n        if (msg_handler) {\n          comm.onMsg = msg_handler;\n        }\n      } else if (typeof google != 'undefined' && google.colab.kernel != null) {\n        var comm_promise = google.colab.kernel.comms.open(comm_id)\n        comm_promise.then((comm) => {\n          window.PyViz.comms[comm_id] = comm;\n          if (msg_handler) {\n            var messages = comm.messages[Symbol.asyncIterator]();\n            function processIteratorResult(result) {\n              var message = result.value;\n              var content = {data: message.data};\n              var metadata = message.metadata || {comm_id};\n              var msg = {content, metadata}\n              msg_handler(msg);\n              return messages.next().then(processIteratorResult);\n            }\n            return messages.next().then(processIteratorResult);\n          }\n        })\n        var sendClosure = (data, metadata, buffers, disposeOnDone) => {\n          return comm_promise.then((comm) => {\n            comm.send(data, metadata, buffers, disposeOnDone);\n          });\n        };\n        var comm = {\n          send: sendClosure\n        };\n      }\n      window.PyViz.comms[comm_id] = comm;\n      return comm;\n    }\n    window.PyViz.comm_manager = new JupyterCommManager();\n    \n\n\nvar JS_MIME_TYPE = 'application/javascript';\nvar HTML_MIME_TYPE = 'text/html';\nvar EXEC_MIME_TYPE = 'application/vnd.holoviews_exec.v0+json';\nvar CLASS_NAME = 'output';\n\n/**\n * Render data to the DOM node\n */\nfunction render(props, node) {\n  var div = document.createElement(\"div\");\n  var script = document.createElement(\"script\");\n  node.appendChild(div);\n  node.appendChild(script);\n}\n\n/**\n * Handle when a new output is added\n */\nfunction handle_add_output(event, handle) {\n  var output_area = handle.output_area;\n  var output = handle.output;\n  if ((output.data == undefined) || (!output.data.hasOwnProperty(EXEC_MIME_TYPE))) {\n    return\n  }\n  var id = output.metadata[EXEC_MIME_TYPE][\"id\"];\n  var toinsert = output_area.element.find(\".\" + CLASS_NAME.split(' ')[0]);\n  if (id !== undefined) {\n    var nchildren = toinsert.length;\n    var html_node = toinsert[nchildren-1].children[0];\n    html_node.innerHTML = output.data[HTML_MIME_TYPE];\n    var scripts = [];\n    var nodelist = html_node.querySelectorAll(\"script\");\n    for (var i in nodelist) {\n      if (nodelist.hasOwnProperty(i)) {\n        scripts.push(nodelist[i])\n      }\n    }\n\n    scripts.forEach( function (oldScript) {\n      var newScript = document.createElement(\"script\");\n      var attrs = [];\n      var nodemap = oldScript.attributes;\n      for (var j in nodemap) {\n        if (nodemap.hasOwnProperty(j)) {\n          attrs.push(nodemap[j])\n        }\n      }\n      attrs.forEach(function(attr) { newScript.setAttribute(attr.name, attr.value) });\n      newScript.appendChild(document.createTextNode(oldScript.innerHTML));\n      oldScript.parentNode.replaceChild(newScript, oldScript);\n    });\n    if (JS_MIME_TYPE in output.data) {\n      toinsert[nchildren-1].children[1].textContent = output.data[JS_MIME_TYPE];\n    }\n    output_area._hv_plot_id = id;\n    if ((window.Bokeh !== undefined) && (id in Bokeh.index)) {\n      window.PyViz.plot_index[id] = Bokeh.index[id];\n    } else {\n      window.PyViz.plot_index[id] = null;\n    }\n  } else if (output.metadata[EXEC_MIME_TYPE][\"server_id\"] !== undefined) {\n    var bk_div = document.createElement(\"div\");\n    bk_div.innerHTML = output.data[HTML_MIME_TYPE];\n    var script_attrs = bk_div.children[0].attributes;\n    for (var i = 0; i < script_attrs.length; i++) {\n      toinsert[toinsert.length - 1].childNodes[1].setAttribute(script_attrs[i].name, script_attrs[i].value);\n    }\n    // store reference to server id on output_area\n    output_area._bokeh_server_id = output.metadata[EXEC_MIME_TYPE][\"server_id\"];\n  }\n}\n\n/**\n * Handle when an output is cleared or removed\n */\nfunction handle_clear_output(event, handle) {\n  var id = handle.cell.output_area._hv_plot_id;\n  var server_id = handle.cell.output_area._bokeh_server_id;\n  if (((id === undefined) || !(id in PyViz.plot_index)) && (server_id !== undefined)) { return; }\n  var comm = window.PyViz.comm_manager.get_client_comm(\"hv-extension-comm\", \"hv-extension-comm\", function () {});\n  if (server_id !== null) {\n    comm.send({event_type: 'server_delete', 'id': server_id});\n    return;\n  } else if (comm !== null) {\n    comm.send({event_type: 'delete', 'id': id});\n  }\n  delete PyViz.plot_index[id];\n  if ((window.Bokeh !== undefined) & (id in window.Bokeh.index)) {\n    var doc = window.Bokeh.index[id].model.document\n    doc.clear();\n    const i = window.Bokeh.documents.indexOf(doc);\n    if (i > -1) {\n      window.Bokeh.documents.splice(i, 1);\n    }\n  }\n}\n\n/**\n * Handle kernel restart event\n */\nfunction handle_kernel_cleanup(event, handle) {\n  delete PyViz.comms[\"hv-extension-comm\"];\n  window.PyViz.plot_index = {}\n}\n\n/**\n * Handle update_display_data messages\n */\nfunction handle_update_output(event, handle) {\n  handle_clear_output(event, {cell: {output_area: handle.output_area}})\n  handle_add_output(event, handle)\n}\n\nfunction register_renderer(events, OutputArea) {\n  function append_mime(data, metadata, element) {\n    // create a DOM node to render to\n    var toinsert = this.create_output_subarea(\n    metadata,\n    CLASS_NAME,\n    EXEC_MIME_TYPE\n    );\n    this.keyboard_manager.register_events(toinsert);\n    // Render to node\n    var props = {data: data, metadata: metadata[EXEC_MIME_TYPE]};\n    render(props, toinsert[0]);\n    element.append(toinsert);\n    return toinsert\n  }\n\n  events.on('output_added.OutputArea', handle_add_output);\n  events.on('output_updated.OutputArea', handle_update_output);\n  events.on('clear_output.CodeCell', handle_clear_output);\n  events.on('delete.Cell', handle_clear_output);\n  events.on('kernel_ready.Kernel', handle_kernel_cleanup);\n\n  OutputArea.prototype.register_mime_type(EXEC_MIME_TYPE, append_mime, {\n    safe: true,\n    index: 0\n  });\n}\n\nif (window.Jupyter !== undefined) {\n  try {\n    var events = require('base/js/events');\n    var OutputArea = require('notebook/js/outputarea').OutputArea;\n    if (OutputArea.prototype.mime_types().indexOf(EXEC_MIME_TYPE) == -1) {\n      register_renderer(events, OutputArea);\n    }\n  } catch(err) {\n  }\n}\n",
            "application/vnd.holoviews_load.v0+json": ""
          },
          "metadata": {},
          "output_type": "display_data"
        },
        {
          "data": {
            "application/vnd.holoviews_exec.v0+json": "",
            "text/html": [
              "<div id='p1004'>\n",
              "  <div id=\"b1fd7af1-c66a-4b02-8fa3-544848b9189a\" data-root-id=\"p1004\" style=\"display: contents;\"></div>\n",
              "</div>\n",
              "<script type=\"application/javascript\">(function(root) {\n",
              "  var docs_json = {\"03006b34-5bbf-4f5a-8f3f-4e217b50be20\":{\"version\":\"3.7.3\",\"title\":\"Bokeh Application\",\"roots\":[{\"type\":\"object\",\"name\":\"panel.models.browser.BrowserInfo\",\"id\":\"p1004\"},{\"type\":\"object\",\"name\":\"panel.models.comm_manager.CommManager\",\"id\":\"p1005\",\"attributes\":{\"plot_id\":\"p1004\",\"comm_id\":\"6afcbad63444470ead4e384f6ff10659\",\"client_comm_id\":\"bdaf5183c55c4c58a4675515d00d48fe\"}}],\"defs\":[{\"type\":\"model\",\"name\":\"ReactiveHTML1\"},{\"type\":\"model\",\"name\":\"FlexBox1\",\"properties\":[{\"name\":\"align_content\",\"kind\":\"Any\",\"default\":\"flex-start\"},{\"name\":\"align_items\",\"kind\":\"Any\",\"default\":\"flex-start\"},{\"name\":\"flex_direction\",\"kind\":\"Any\",\"default\":\"row\"},{\"name\":\"flex_wrap\",\"kind\":\"Any\",\"default\":\"wrap\"},{\"name\":\"gap\",\"kind\":\"Any\",\"default\":\"\"},{\"name\":\"justify_content\",\"kind\":\"Any\",\"default\":\"flex-start\"}]},{\"type\":\"model\",\"name\":\"FloatPanel1\",\"properties\":[{\"name\":\"config\",\"kind\":\"Any\",\"default\":{\"type\":\"map\"}},{\"name\":\"contained\",\"kind\":\"Any\",\"default\":true},{\"name\":\"position\",\"kind\":\"Any\",\"default\":\"right-top\"},{\"name\":\"offsetx\",\"kind\":\"Any\",\"default\":null},{\"name\":\"offsety\",\"kind\":\"Any\",\"default\":null},{\"name\":\"theme\",\"kind\":\"Any\",\"default\":\"primary\"},{\"name\":\"status\",\"kind\":\"Any\",\"default\":\"normalized\"}]},{\"type\":\"model\",\"name\":\"GridStack1\",\"properties\":[{\"name\":\"ncols\",\"kind\":\"Any\",\"default\":null},{\"name\":\"nrows\",\"kind\":\"Any\",\"default\":null},{\"name\":\"allow_resize\",\"kind\":\"Any\",\"default\":true},{\"name\":\"allow_drag\",\"kind\":\"Any\",\"default\":true},{\"name\":\"state\",\"kind\":\"Any\",\"default\":[]}]},{\"type\":\"model\",\"name\":\"drag1\",\"properties\":[{\"name\":\"slider_width\",\"kind\":\"Any\",\"default\":5},{\"name\":\"slider_color\",\"kind\":\"Any\",\"default\":\"black\"},{\"name\":\"value\",\"kind\":\"Any\",\"default\":50}]},{\"type\":\"model\",\"name\":\"click1\",\"properties\":[{\"name\":\"terminal_output\",\"kind\":\"Any\",\"default\":\"\"},{\"name\":\"debug_name\",\"kind\":\"Any\",\"default\":\"\"},{\"name\":\"clears\",\"kind\":\"Any\",\"default\":0}]},{\"type\":\"model\",\"name\":\"FastWrapper1\",\"properties\":[{\"name\":\"object\",\"kind\":\"Any\",\"default\":null},{\"name\":\"style\",\"kind\":\"Any\",\"default\":null}]},{\"type\":\"model\",\"name\":\"NotificationArea1\",\"properties\":[{\"name\":\"js_events\",\"kind\":\"Any\",\"default\":{\"type\":\"map\"}},{\"name\":\"max_notifications\",\"kind\":\"Any\",\"default\":5},{\"name\":\"notifications\",\"kind\":\"Any\",\"default\":[]},{\"name\":\"position\",\"kind\":\"Any\",\"default\":\"bottom-right\"},{\"name\":\"_clear\",\"kind\":\"Any\",\"default\":0},{\"name\":\"types\",\"kind\":\"Any\",\"default\":[{\"type\":\"map\",\"entries\":[[\"type\",\"warning\"],[\"background\",\"#ffc107\"],[\"icon\",{\"type\":\"map\",\"entries\":[[\"className\",\"fas fa-exclamation-triangle\"],[\"tagName\",\"i\"],[\"color\",\"white\"]]}]]},{\"type\":\"map\",\"entries\":[[\"type\",\"info\"],[\"background\",\"#007bff\"],[\"icon\",{\"type\":\"map\",\"entries\":[[\"className\",\"fas fa-info-circle\"],[\"tagName\",\"i\"],[\"color\",\"white\"]]}]]}]}]},{\"type\":\"model\",\"name\":\"Notification\",\"properties\":[{\"name\":\"background\",\"kind\":\"Any\",\"default\":null},{\"name\":\"duration\",\"kind\":\"Any\",\"default\":3000},{\"name\":\"icon\",\"kind\":\"Any\",\"default\":null},{\"name\":\"message\",\"kind\":\"Any\",\"default\":\"\"},{\"name\":\"notification_type\",\"kind\":\"Any\",\"default\":null},{\"name\":\"_rendered\",\"kind\":\"Any\",\"default\":false},{\"name\":\"_destroyed\",\"kind\":\"Any\",\"default\":false}]},{\"type\":\"model\",\"name\":\"TemplateActions1\",\"properties\":[{\"name\":\"open_modal\",\"kind\":\"Any\",\"default\":0},{\"name\":\"close_modal\",\"kind\":\"Any\",\"default\":0}]},{\"type\":\"model\",\"name\":\"BootstrapTemplateActions1\",\"properties\":[{\"name\":\"open_modal\",\"kind\":\"Any\",\"default\":0},{\"name\":\"close_modal\",\"kind\":\"Any\",\"default\":0}]},{\"type\":\"model\",\"name\":\"TemplateEditor1\",\"properties\":[{\"name\":\"layout\",\"kind\":\"Any\",\"default\":[]}]},{\"type\":\"model\",\"name\":\"MaterialTemplateActions1\",\"properties\":[{\"name\":\"open_modal\",\"kind\":\"Any\",\"default\":0},{\"name\":\"close_modal\",\"kind\":\"Any\",\"default\":0}]},{\"type\":\"model\",\"name\":\"ReactiveESM1\",\"properties\":[{\"name\":\"esm_constants\",\"kind\":\"Any\",\"default\":{\"type\":\"map\"}}]},{\"type\":\"model\",\"name\":\"JSComponent1\",\"properties\":[{\"name\":\"esm_constants\",\"kind\":\"Any\",\"default\":{\"type\":\"map\"}}]},{\"type\":\"model\",\"name\":\"ReactComponent1\",\"properties\":[{\"name\":\"esm_constants\",\"kind\":\"Any\",\"default\":{\"type\":\"map\"}}]},{\"type\":\"model\",\"name\":\"AnyWidgetComponent1\",\"properties\":[{\"name\":\"esm_constants\",\"kind\":\"Any\",\"default\":{\"type\":\"map\"}}]},{\"type\":\"model\",\"name\":\"request_value1\",\"properties\":[{\"name\":\"fill\",\"kind\":\"Any\",\"default\":\"none\"},{\"name\":\"_synced\",\"kind\":\"Any\",\"default\":null},{\"name\":\"_request_sync\",\"kind\":\"Any\",\"default\":0}]}]}};\n",
              "  var render_items = [{\"docid\":\"03006b34-5bbf-4f5a-8f3f-4e217b50be20\",\"roots\":{\"p1004\":\"b1fd7af1-c66a-4b02-8fa3-544848b9189a\"},\"root_ids\":[\"p1004\"]}];\n",
              "  var docs = Object.values(docs_json)\n",
              "  if (!docs) {\n",
              "    return\n",
              "  }\n",
              "  const py_version = docs[0].version.replace('rc', '-rc.').replace('.dev', '-dev.')\n",
              "  async function embed_document(root) {\n",
              "    var Bokeh = get_bokeh(root)\n",
              "    await Bokeh.embed.embed_items_notebook(docs_json, render_items);\n",
              "    for (const render_item of render_items) {\n",
              "      for (const root_id of render_item.root_ids) {\n",
              "\tconst id_el = document.getElementById(root_id)\n",
              "\tif (id_el.children.length && id_el.children[0].hasAttribute('data-root-id')) {\n",
              "\t  const root_el = id_el.children[0]\n",
              "\t  root_el.id = root_el.id + '-rendered'\n",
              "\t  for (const child of root_el.children) {\n",
              "            // Ensure JupyterLab does not capture keyboard shortcuts\n",
              "            // see: https://jupyterlab.readthedocs.io/en/4.1.x/extension/notebook.html#keyboard-interaction-model\n",
              "\t    child.setAttribute('data-lm-suppress-shortcuts', 'true')\n",
              "\t  }\n",
              "\t}\n",
              "      }\n",
              "    }\n",
              "  }\n",
              "  function get_bokeh(root) {\n",
              "    if (root.Bokeh === undefined) {\n",
              "      return null\n",
              "    } else if (root.Bokeh.version !== py_version) {\n",
              "      if (root.Bokeh.versions === undefined || !root.Bokeh.versions.has(py_version)) {\n",
              "\treturn null\n",
              "      }\n",
              "      return root.Bokeh.versions.get(py_version);\n",
              "    } else if (root.Bokeh.version === py_version) {\n",
              "      return root.Bokeh\n",
              "    }\n",
              "    return null\n",
              "  }\n",
              "  function is_loaded(root) {\n",
              "    var Bokeh = get_bokeh(root)\n",
              "    return (Bokeh != null && Bokeh.Panel !== undefined)\n",
              "  }\n",
              "  if (is_loaded(root)) {\n",
              "    embed_document(root);\n",
              "  } else {\n",
              "    var attempts = 0;\n",
              "    var timer = setInterval(function(root) {\n",
              "      if (is_loaded(root)) {\n",
              "        clearInterval(timer);\n",
              "        embed_document(root);\n",
              "      } else if (document.readyState == \"complete\") {\n",
              "        attempts++;\n",
              "        if (attempts > 200) {\n",
              "          clearInterval(timer);\n",
              "\t  var Bokeh = get_bokeh(root)\n",
              "\t  if (Bokeh == null || Bokeh.Panel == null) {\n",
              "            console.warn(\"Panel: ERROR: Unable to run Panel code because Bokeh or Panel library is missing\");\n",
              "\t  } else {\n",
              "\t    console.warn(\"Panel: WARNING: Attempting to render but not all required libraries could be resolved.\")\n",
              "\t    embed_document(root)\n",
              "\t  }\n",
              "        }\n",
              "      }\n",
              "    }, 25, root)\n",
              "  }\n",
              "})(window);</script>"
            ]
          },
          "metadata": {
            "application/vnd.holoviews_exec.v0+json": {
              "id": "p1004"
            }
          },
          "output_type": "display_data"
        }
      ],
      "source": [
        "%store -r\n",
        "\n",
        "# Import libraries\n",
        "import earthpy #for vector\n",
        "import geopandas as gpd #to add spatial\n",
        "import hvplot.pandas as hv #for interactive plotting\n",
        "import pandas as pd #for tables"
      ]
    },
    {
      "cell_type": "markdown",
      "id": "8bfe4b4b-f9b0-4e5c-8970-a7ed0c5df513",
      "metadata": {},
      "source": [
        "## STEP 4: Analyse the flood\n",
        "\n",
        "As scientists and engineers, we are interested in not just describing a\n",
        "flood, but in understanding how often we would expect an event that\n",
        "severe or extreme to happen. Some applications we need this information\n",
        "for include:\n",
        "\n",
        "-   Designing and developing engineering standards for bridges and roads\n",
        "    to withstand flooding\n",
        "-   Choosing the capacity of water treatment plants to accommodate flood\n",
        "    waters\n",
        "-   Computing flood risk maps and choosing where to build\n",
        "-   Determining flood insurance rates\n",
        "\n",
        "The exceedance probability is a simple, data-driven way to quantify how\n",
        "unusual a flood is and how often we can expect similar events to happen.\n",
        "We calculate exceedance probability by counting how many years with\n",
        "floods the same size or larger have been recorded, or ranking the and\n",
        "dividing by the number of years we have records for:\n",
        "\n",
        "$$P_e = \\frac{\\text{Annual peak flow rank}}{\\text{Years of record}}$$\n",
        "\n",
        "This value tells us historically what the likelihood was of a flood of a\n",
        "certain size or larger each year, or the **exceedance probability**. We\n",
        "can also express how unusual a flood is with the **return period**, or\n",
        "an amount of time during which we’d expect there to be about one flood\n",
        "the same size or larger. The return period is the reciprocal of the\n",
        "exceedance probability:\n",
        "\n",
        "$$R = \\frac{\\text{Years of record}}{\\text{Annual peak flow rank}}$$\n",
        "\n",
        "As an example – suppose a streamflow of $10000$ cfs occurs $4$ times\n",
        "over a 100-year record. The exceedance probability would be\n",
        "$\\frac{4}{100} = .25$ and the return period would be 25 years.\n",
        "\n",
        "There are advantages and disadvantages to this method of calculating the\n",
        "**exceedance probability**. On one hand, we are not making any\n",
        "assumptions about how often floods occur, and there is no way to\n",
        "extrapolate to a size of flood that has never been observed. On the\n",
        "other hand, we can’t incorporate any information about how often floods\n",
        "occur nearby or in other locations, and the data record for streamflow\n",
        "is often less than the desired lifetime of the built environment.\n",
        "\n",
        "<link rel=\"stylesheet\" type=\"text/css\" href=\"./assets/styles.css\"><div class=\"callout callout-style-default callout-titled callout-read\"><div class=\"callout-header\"><div class=\"callout-icon-container\"><i class=\"callout-icon\"></i></div><div class=\"callout-title-container flex-fill\">Read More</div></div><div class=\"callout-body-container callout-body\"><p>You can learn more about exceedance probabilities and return periods\n",
        "in <a\n",
        "href=\"https://www.earthdatascience.org/courses/use-data-open-source-python/use-time-series-data-in-python/floods-return-period-and-probability/\">this\n",
        "textbook page on the subject</a></p></div></div>\n",
        "\n",
        "Let’s start by accessing and plotting ALL the data available for this\n",
        "site. Then we’ll use a return period **statistic** to quantify how\n",
        "unusual it was.\n",
        "\n",
        "### Visualize all the streamflow data\n",
        "\n",
        "<link rel=\"stylesheet\" type=\"text/css\" href=\"./assets/styles.css\"><div class=\"callout callout-style-default callout-titled callout-task\"><div class=\"callout-header\"><div class=\"callout-icon-container\"><i class=\"callout-icon\"></i></div><div class=\"callout-title-container flex-fill\">Try It</div></div><div class=\"callout-body-container callout-body\"><p>In the cell below, plot the entire time series of streamflow data,\n",
        "without any parameters.</p></div></div>"
      ]
    },
    {
      "cell_type": "code",
      "execution_count": 2,
      "id": "73063f17",
      "metadata": {
        "template": "student"
      },
      "outputs": [
        {
          "data": {
            "text/plain": [
              "<Axes: title={'center': '90 Years of Cheyenne River Streamflow'}, xlabel='Date', ylabel='Cubic Feet per Second'>"
            ]
          },
          "execution_count": 2,
          "metadata": {},
          "output_type": "execute_result"
        },
        {
          "data": {
            "image/png": "[encoded data removed]",
            "text/plain": [
              "<Figure size 640x480 with 1 Axes>"
            ]
          },
          "metadata": {},
          "output_type": "display_data"
        }
      ],
      "source": [
        "# Plot the entire streamflow time series\n",
        "(\n",
        "    discharge_df\n",
        "    .plot(\n",
        "        xlabel='Date', \n",
        "        ylabel='Cubic Feet per Second',\n",
        "        title='90 Years of Cheyenne River Streamflow')\n",
        ")"
      ]
    },
    {
      "cell_type": "markdown",
      "id": "382d66d2-75e2-4111-b076-9c28acc9e224",
      "metadata": {},
      "source": [
        "<link rel=\"stylesheet\" type=\"text/css\" href=\"./assets/styles.css\"><div class=\"callout callout-style-default callout-titled callout-respond\"><div class=\"callout-header\"><div class=\"callout-icon-container\"><i class=\"callout-icon\"></i></div><div class=\"callout-title-container flex-fill\">Reflect and Respond</div></div><div class=\"callout-body-container callout-body\"><p>Do you notice anything about this plot?</p></div></div>\n",
        "\n",
        "First things first – this plot looks a little fuzzy because it is trying\n",
        "to fit too many data points in a small area. There aren’t enough pixels\n",
        "in this plot to represent all the data points! One way to improve this\n",
        "is by **resampling** the data to **annual maxima**. That way we still\n",
        "get the same peak streamflows, but the computer will be able to plot all\n",
        "the values without overlapping.\n",
        "\n",
        "> **Tip**\n",
        ">\n",
        "> **Resampling** means changing the time interval between time series\n",
        "> observations - in this case from daily to annual.\n",
        "\n",
        "<link rel=\"stylesheet\" type=\"text/css\" href=\"./assets/styles.css\"><div class=\"callout callout-style-default callout-titled callout-read\"><div class=\"callout-header\"><div class=\"callout-icon-container\"><i class=\"callout-icon\"></i></div><div class=\"callout-title-container flex-fill\">Read More</div></div><div class=\"callout-body-container callout-body\"><p>Read about <a\n",
        "href=\"https://www.earthdatascience.org/courses/use-data-open-source-python/use-time-series-data-in-python/date-time-types-in-pandas-python/resample-time-series-data-pandas-python/\">different\n",
        "ways to resample time series data in your textbook</a></p>\n",
        "<p>You can use a <a\n",
        "href=\"https://pandas.pydata.org/docs/dev/user_guide/timeseries.html#timeseries-offset-aliases\">list\n",
        "of <strong>offset aliases</strong></a> to look up how to specify the\n",
        "final dates. This list is pretty hard to find - you might want to\n",
        "bookmark it or check back with this page if you need it again.</p></div></div>\n",
        "\n",
        "<link rel=\"stylesheet\" type=\"text/css\" href=\"./assets/styles.css\"><div class=\"callout callout-style-default callout-titled callout-task\"><div class=\"callout-header\"><div class=\"callout-icon-container\"><i class=\"callout-icon\"></i></div><div class=\"callout-title-container flex-fill\">Try It</div></div><div class=\"callout-body-container callout-body\"><p>Resample your <code>DataFrame</code> to get an annual maximum:</p>\n",
        "<ol type=\"1\">\n",
        "<li>Replace <code>dataframe_name</code> with the name of your\n",
        "<code>DataFrame</code>.</li>\n",
        "<li>Replace <code>offset_alias</code> with the correct offset alias from\n",
        "the <a\n",
        "href=\"https://pandas.pydata.org/docs/dev/user_guide/timeseries.html#timeseries-offset-aliases\">pandas\n",
        "documentation</a></li>\n",
        "<li>Save the results to a new, descriptive variable name, and display\n",
        "the results of the resampling.</li>\n",
        "</ol></div></div>"
      ]
    },
    {
      "cell_type": "code",
      "execution_count": 6,
      "id": "78ecf23b",
      "metadata": {
        "template": "student"
      },
      "outputs": [
        {
          "data": {
            "application/vnd.microsoft.datawrangler.viewer.v0+json": {
              "columns": [
                {
                  "name": "datetime",
                  "rawType": "datetime64[ns, UTC]",
                  "type": "unknown"
                },
                {
                  "name": "flow_cfs",
                  "rawType": "float64",
                  "type": "float"
                }
              ],
              "ref": "888d9e8d-619c-4af9-90fa-e4bbbb817d37",
              "rows": [
                [
                  "1934-12-31 00:00:00+00:00",
                  "2700.0"
                ],
                [
                  "1935-12-31 00:00:00+00:00",
                  "39000.0"
                ],
                [
                  "1936-12-31 00:00:00+00:00",
                  "1680.0"
                ],
                [
                  "1937-12-31 00:00:00+00:00",
                  "16000.0"
                ],
                [
                  "1938-12-31 00:00:00+00:00",
                  "4500.0"
                ],
                [
                  "1939-12-31 00:00:00+00:00",
                  "7480.0"
                ],
                [
                  "1940-12-31 00:00:00+00:00",
                  "3580.0"
                ],
                [
                  "1941-12-31 00:00:00+00:00",
                  "11000.0"
                ],
                [
                  "1942-12-31 00:00:00+00:00",
                  "27600.0"
                ],
                [
                  "1943-12-31 00:00:00+00:00",
                  "7740.0"
                ],
                [
                  "1944-12-31 00:00:00+00:00",
                  "9420.0"
                ],
                [
                  "1945-12-31 00:00:00+00:00",
                  "2620.0"
                ],
                [
                  "1946-12-31 00:00:00+00:00",
                  "14400.0"
                ],
                [
                  "1947-12-31 00:00:00+00:00",
                  "33800.0"
                ],
                [
                  "1948-12-31 00:00:00+00:00",
                  "4460.0"
                ],
                [
                  "1949-12-31 00:00:00+00:00",
                  "6500.0"
                ],
                [
                  "1950-12-31 00:00:00+00:00",
                  "3920.0"
                ],
                [
                  "1951-12-31 00:00:00+00:00",
                  "1900.0"
                ],
                [
                  "1952-12-31 00:00:00+00:00",
                  "8380.0"
                ],
                [
                  "1953-12-31 00:00:00+00:00",
                  "5160.0"
                ],
                [
                  "1954-12-31 00:00:00+00:00",
                  "1200.0"
                ],
                [
                  "1955-12-31 00:00:00+00:00",
                  "9890.0"
                ],
                [
                  "1956-12-31 00:00:00+00:00",
                  "1690.0"
                ],
                [
                  "1957-12-31 00:00:00+00:00",
                  "15800.0"
                ],
                [
                  "1958-12-31 00:00:00+00:00",
                  "3610.0"
                ],
                [
                  "1959-12-31 00:00:00+00:00",
                  "4520.0"
                ],
                [
                  "1960-12-31 00:00:00+00:00",
                  "2000.0"
                ],
                [
                  "1961-12-31 00:00:00+00:00",
                  "820.0"
                ],
                [
                  "1962-12-31 00:00:00+00:00",
                  "16600.0"
                ],
                [
                  "1963-12-31 00:00:00+00:00",
                  "11500.0"
                ],
                [
                  "1964-12-31 00:00:00+00:00",
                  "12100.0"
                ],
                [
                  "1965-12-31 00:00:00+00:00",
                  "18200.0"
                ],
                [
                  "1966-12-31 00:00:00+00:00",
                  "3890.0"
                ],
                [
                  "1967-12-31 00:00:00+00:00",
                  "19200.0"
                ],
                [
                  "1968-12-31 00:00:00+00:00",
                  "4890.0"
                ],
                [
                  "1969-12-31 00:00:00+00:00",
                  "6540.0"
                ],
                [
                  "1970-12-31 00:00:00+00:00",
                  "7290.0"
                ],
                [
                  "1971-12-31 00:00:00+00:00",
                  "11300.0"
                ],
                [
                  "1972-12-31 00:00:00+00:00",
                  "9240.0"
                ],
                [
                  "1973-12-31 00:00:00+00:00",
                  "3990.0"
                ],
                [
                  "1974-12-31 00:00:00+00:00",
                  "2290.0"
                ],
                [
                  "1975-12-31 00:00:00+00:00",
                  "2470.0"
                ],
                [
                  "1976-12-31 00:00:00+00:00",
                  "3480.0"
                ],
                [
                  "1977-12-31 00:00:00+00:00",
                  "4450.0"
                ],
                [
                  "1978-12-31 00:00:00+00:00",
                  "19100.0"
                ],
                [
                  "1979-12-31 00:00:00+00:00",
                  "5150.0"
                ],
                [
                  "1980-12-31 00:00:00+00:00",
                  "1520.0"
                ],
                [
                  "1981-12-31 00:00:00+00:00",
                  "1560.0"
                ],
                [
                  "1982-12-31 00:00:00+00:00",
                  "12400.0"
                ],
                [
                  "1983-12-31 00:00:00+00:00",
                  "4350.0"
                ]
              ],
              "shape": {
                "columns": 1,
                "rows": 91
              }
            },
            "text/html": [
              "<div>\n",
              "<style scoped>\n",
              "    .dataframe tbody tr th:only-of-type {\n",
              "        vertical-align: middle;\n",
              "    }\n",
              "\n",
              "    .dataframe tbody tr th {\n",
              "        vertical-align: top;\n",
              "    }\n",
              "\n",
              "    .dataframe thead th {\n",
              "        text-align: right;\n",
              "    }\n",
              "</style>\n",
              "<table border=\"1\" class=\"dataframe\">\n",
              "  <thead>\n",
              "    <tr style=\"text-align: right;\">\n",
              "      <th></th>\n",
              "      <th>flow_cfs</th>\n",
              "    </tr>\n",
              "    <tr>\n",
              "      <th>datetime</th>\n",
              "      <th></th>\n",
              "    </tr>\n",
              "  </thead>\n",
              "  <tbody>\n",
              "    <tr>\n",
              "      <th>1934-12-31 00:00:00+00:00</th>\n",
              "      <td>2700.0</td>\n",
              "    </tr>\n",
              "    <tr>\n",
              "      <th>1935-12-31 00:00:00+00:00</th>\n",
              "      <td>39000.0</td>\n",
              "    </tr>\n",
              "    <tr>\n",
              "      <th>1936-12-31 00:00:00+00:00</th>\n",
              "      <td>1680.0</td>\n",
              "    </tr>\n",
              "    <tr>\n",
              "      <th>1937-12-31 00:00:00+00:00</th>\n",
              "      <td>16000.0</td>\n",
              "    </tr>\n",
              "    <tr>\n",
              "      <th>1938-12-31 00:00:00+00:00</th>\n",
              "      <td>4500.0</td>\n",
              "    </tr>\n",
              "    <tr>\n",
              "      <th>...</th>\n",
              "      <td>...</td>\n",
              "    </tr>\n",
              "    <tr>\n",
              "      <th>2020-12-31 00:00:00+00:00</th>\n",
              "      <td>1800.0</td>\n",
              "    </tr>\n",
              "    <tr>\n",
              "      <th>2021-12-31 00:00:00+00:00</th>\n",
              "      <td>5170.0</td>\n",
              "    </tr>\n",
              "    <tr>\n",
              "      <th>2022-12-31 00:00:00+00:00</th>\n",
              "      <td>1540.0</td>\n",
              "    </tr>\n",
              "    <tr>\n",
              "      <th>2023-12-31 00:00:00+00:00</th>\n",
              "      <td>6740.0</td>\n",
              "    </tr>\n",
              "    <tr>\n",
              "      <th>2024-12-31 00:00:00+00:00</th>\n",
              "      <td>3770.0</td>\n",
              "    </tr>\n",
              "  </tbody>\n",
              "</table>\n",
              "<p>91 rows × 1 columns</p>\n",
              "</div>"
            ],
            "text/plain": [
              "                           flow_cfs\n",
              "datetime                           \n",
              "1934-12-31 00:00:00+00:00    2700.0\n",
              "1935-12-31 00:00:00+00:00   39000.0\n",
              "1936-12-31 00:00:00+00:00    1680.0\n",
              "1937-12-31 00:00:00+00:00   16000.0\n",
              "1938-12-31 00:00:00+00:00    4500.0\n",
              "...                             ...\n",
              "2020-12-31 00:00:00+00:00    1800.0\n",
              "2021-12-31 00:00:00+00:00    5170.0\n",
              "2022-12-31 00:00:00+00:00    1540.0\n",
              "2023-12-31 00:00:00+00:00    6740.0\n",
              "2024-12-31 00:00:00+00:00    3770.0\n",
              "\n",
              "[91 rows x 1 columns]"
            ]
          },
          "execution_count": 6,
          "metadata": {},
          "output_type": "execute_result"
        }
      ],
      "source": [
        "# Resample to annual maxima\n",
        "annualpeak_df = discharge_df.resample('YE').max()\n",
        "annualpeak_df"
      ]
    },
    {
      "cell_type": "markdown",
      "id": "31fb8117-4fb1-4ba8-8aac-a4f48c0b6a40",
      "metadata": {},
      "source": [
        "<link rel=\"stylesheet\" type=\"text/css\" href=\"./assets/styles.css\"><div class=\"callout callout-style-default callout-titled callout-task\"><div class=\"callout-header\"><div class=\"callout-icon-container\"><i class=\"callout-icon\"></i></div><div class=\"callout-title-container flex-fill\">Try It</div></div><div class=\"callout-body-container callout-body\"><p>Plot your resampled data.</p></div></div>"
      ]
    },
    {
      "cell_type": "code",
      "execution_count": 9,
      "id": "d5d3a43b",
      "metadata": {
        "template": "student"
      },
      "outputs": [
        {
          "data": {
            "text/plain": [
              "<Axes: title={'center': '90 Years of Peak Cheyenne River Streamflow'}, xlabel='Year', ylabel='Cubic Feet per Second'>"
            ]
          },
          "execution_count": 9,
          "metadata": {},
          "output_type": "execute_result"
        },
        {
          "data": {
            "image/png": "[encoded data removed]",
            "text/plain": [
              "<Figure size 640x480 with 1 Axes>"
            ]
          },
          "metadata": {},
          "output_type": "display_data"
        }
      ],
      "source": [
        "# Plot annual maximum streamflow values\n",
        "(\n",
        "    annualpeak_df\n",
        "    .plot(\n",
        "        xlabel='Year', \n",
        "        ylabel='Cubic Feet per Second',\n",
        "        title='90 Years of Peak Cheyenne River Streamflow')\n",
        ")"
      ]
    },
    {
      "cell_type": "markdown",
      "id": "15fa4abc-02a2-486b-9ec2-c658147b736e",
      "metadata": {},
      "source": [
        "<link rel=\"stylesheet\" type=\"text/css\" href=\"./assets/styles.css\"><div class=\"callout callout-style-default callout-titled callout-respond\"><div class=\"callout-header\"><div class=\"callout-icon-container\"><i class=\"callout-icon\"></i></div><div class=\"callout-title-container flex-fill\">Reflect and Respond</div></div><div class=\"callout-body-container callout-body\"><p>Write a headline and 2-3 sentence description of your plot. What is\n",
        "your visual estimate of the return period was for the flood in 2019?</p></div></div>"
      ]
    },
    {
      "cell_type": "markdown",
      "id": "e7662c31-3a8d-4d67-a18a-595453d3d693",
      "metadata": {},
      "source": [
        "Visual analysis\n",
        "---------------\n",
        "There are 14 years with peak flows exceeding 15,000 CFS. Ranking 6th of 91 records the probability of exceedance is 6.59% and the return period may be roughly 15 years."
      ]
    },
    {
      "cell_type": "markdown",
      "id": "f00c3735-0eaa-482b-bfa7-b7dec1db0666",
      "metadata": {},
      "source": [
        "### Select relevant data\n",
        "\n",
        "When calculating exceedance probabilities, we are making an assumption\n",
        "of **stationarity**, meaning that all the peak streamflows are drawn\n",
        "from the same **probability distribution**. Put another way, we only\n",
        "want to include data from years where the conditions on the river are\n",
        "similar to what they are now.\n",
        "\n",
        "Did you notice that the streamflow values from before 1950 or so? You\n",
        "should investigate any obvious causes of that discrepancy so we know if\n",
        "the pre-1950 data is relevant to current conditions.\n",
        "\n",
        "<link rel=\"stylesheet\" type=\"text/css\" href=\"./assets/styles.css\"><div class=\"callout callout-style-default callout-titled callout-respond\"><div class=\"callout-header\"><div class=\"callout-icon-container\"><i class=\"callout-icon\"></i></div><div class=\"callout-title-container flex-fill\">Reflect and Respond</div></div><div class=\"callout-body-container callout-body\"><p>What are some possible causes for peak streamflows to decrease\n",
        "systematically?</p></div></div>\n",
        "\n",
        "<link rel=\"stylesheet\" type=\"text/css\" href=\"./assets/styles.css\"><div class=\"callout callout-style-default callout-titled callout-info\"><div class=\"callout-header\"><div class=\"callout-icon-container\"><i class=\"callout-icon\"></i></div><div class=\"callout-title-container flex-fill\">Climate Change and Stationarity</div></div><div class=\"callout-body-container callout-body\"><p>One of the problems with adapting to climate change is that we can no\n",
        "longer assume stationarity in a lot of contexts. As scientists, we don’t\n",
        "yet have standard methods for incorporating climate change into flood\n",
        "return period calculations. You can read more about the debate of\n",
        "stationarity, climate change, and return periods in <a\n",
        "href=\"https://www.science.org/doi/10.1126/science.1151915\">a paper\n",
        "called ‘Stationarity is Dead’</a> and the many related response\n",
        "papers.</p></div></div>\n",
        "\n",
        "It turns out that construction on the Oahe dam on the Cheyenne River was\n",
        "started in 1948. We therefor don’t want to include any streamflow\n",
        "measurements before that date, because the Cheyenne River now as a much\n",
        "different flood response due to the dam. Dams tend to reduce peak\n",
        "streamflow, depending on how they are managed, but can cause other\n",
        "problems in the process.\n",
        "\n",
        "<link rel=\"stylesheet\" type=\"text/css\" href=\"./assets/styles.css\"><div class=\"callout callout-style-default callout-titled callout-read\"><div class=\"callout-header\"><div class=\"callout-icon-container\"><i class=\"callout-icon\"></i></div><div class=\"callout-title-container flex-fill\">Read More</div></div><div class=\"callout-body-container callout-body\"><p>Learn more about the Oahe Dam on <a\n",
        "href=\"https://en.wikipedia.org/wiki/Oahe_Dam\">its Wikipedia page</a>.\n",
        "You can also find some local perspectives on the dam in some of the\n",
        "articles about the 2019 flood at the beginning of this coding\n",
        "challenge.</p></div></div>\n",
        "\n",
        "<link rel=\"stylesheet\" type=\"text/css\" href=\"./assets/styles.css\"><div class=\"callout callout-style-default callout-titled callout-task\"><div class=\"callout-header\"><div class=\"callout-icon-container\"><i class=\"callout-icon\"></i></div><div class=\"callout-title-container flex-fill\">Try It</div></div><div class=\"callout-body-container callout-body\"><p>Remove years of data before the construction of the Oahe Dam. You can\n",
        "use a colon inside the square brackets of the <code>.loc</code>\n",
        "attribute to show that you would like all dates after a certain value,\n",
        "e.g. <code>'1950':</code></p></div></div>"
      ]
    },
    {
      "cell_type": "code",
      "execution_count": 10,
      "id": "dfdacb85",
      "metadata": {
        "template": "student"
      },
      "outputs": [
        {
          "data": {
            "application/vnd.microsoft.datawrangler.viewer.v0+json": {
              "columns": [
                {
                  "name": "datetime",
                  "rawType": "datetime64[ns, UTC]",
                  "type": "unknown"
                },
                {
                  "name": "flow_cfs",
                  "rawType": "float64",
                  "type": "float"
                }
              ],
              "ref": "7cd19763-06bf-4fda-875b-15a1bbd871da",
              "rows": [
                [
                  "1950-12-31 00:00:00+00:00",
                  "3920.0"
                ],
                [
                  "1951-12-31 00:00:00+00:00",
                  "1900.0"
                ],
                [
                  "1952-12-31 00:00:00+00:00",
                  "8380.0"
                ],
                [
                  "1953-12-31 00:00:00+00:00",
                  "5160.0"
                ],
                [
                  "1954-12-31 00:00:00+00:00",
                  "1200.0"
                ],
                [
                  "1955-12-31 00:00:00+00:00",
                  "9890.0"
                ],
                [
                  "1956-12-31 00:00:00+00:00",
                  "1690.0"
                ],
                [
                  "1957-12-31 00:00:00+00:00",
                  "15800.0"
                ],
                [
                  "1958-12-31 00:00:00+00:00",
                  "3610.0"
                ],
                [
                  "1959-12-31 00:00:00+00:00",
                  "4520.0"
                ],
                [
                  "1960-12-31 00:00:00+00:00",
                  "2000.0"
                ],
                [
                  "1961-12-31 00:00:00+00:00",
                  "820.0"
                ],
                [
                  "1962-12-31 00:00:00+00:00",
                  "16600.0"
                ],
                [
                  "1963-12-31 00:00:00+00:00",
                  "11500.0"
                ],
                [
                  "1964-12-31 00:00:00+00:00",
                  "12100.0"
                ],
                [
                  "1965-12-31 00:00:00+00:00",
                  "18200.0"
                ],
                [
                  "1966-12-31 00:00:00+00:00",
                  "3890.0"
                ],
                [
                  "1967-12-31 00:00:00+00:00",
                  "19200.0"
                ],
                [
                  "1968-12-31 00:00:00+00:00",
                  "4890.0"
                ],
                [
                  "1969-12-31 00:00:00+00:00",
                  "6540.0"
                ],
                [
                  "1970-12-31 00:00:00+00:00",
                  "7290.0"
                ],
                [
                  "1971-12-31 00:00:00+00:00",
                  "11300.0"
                ],
                [
                  "1972-12-31 00:00:00+00:00",
                  "9240.0"
                ],
                [
                  "1973-12-31 00:00:00+00:00",
                  "3990.0"
                ],
                [
                  "1974-12-31 00:00:00+00:00",
                  "2290.0"
                ],
                [
                  "1975-12-31 00:00:00+00:00",
                  "2470.0"
                ],
                [
                  "1976-12-31 00:00:00+00:00",
                  "3480.0"
                ],
                [
                  "1977-12-31 00:00:00+00:00",
                  "4450.0"
                ],
                [
                  "1978-12-31 00:00:00+00:00",
                  "19100.0"
                ],
                [
                  "1979-12-31 00:00:00+00:00",
                  "5150.0"
                ],
                [
                  "1980-12-31 00:00:00+00:00",
                  "1520.0"
                ],
                [
                  "1981-12-31 00:00:00+00:00",
                  "1560.0"
                ],
                [
                  "1982-12-31 00:00:00+00:00",
                  "12400.0"
                ],
                [
                  "1983-12-31 00:00:00+00:00",
                  "4350.0"
                ],
                [
                  "1984-12-31 00:00:00+00:00",
                  "3680.0"
                ],
                [
                  "1985-12-31 00:00:00+00:00",
                  "900.0"
                ],
                [
                  "1986-12-31 00:00:00+00:00",
                  "11700.0"
                ],
                [
                  "1987-12-31 00:00:00+00:00",
                  "4650.0"
                ],
                [
                  "1988-12-31 00:00:00+00:00",
                  "2050.0"
                ],
                [
                  "1989-12-31 00:00:00+00:00",
                  "2630.0"
                ],
                [
                  "1990-12-31 00:00:00+00:00",
                  "2050.0"
                ],
                [
                  "1991-12-31 00:00:00+00:00",
                  "15000.0"
                ],
                [
                  "1992-12-31 00:00:00+00:00",
                  "1660.0"
                ],
                [
                  "1993-12-31 00:00:00+00:00",
                  "8640.0"
                ],
                [
                  "1994-12-31 00:00:00+00:00",
                  "4000.0"
                ],
                [
                  "1995-12-31 00:00:00+00:00",
                  "11700.0"
                ],
                [
                  "1996-12-31 00:00:00+00:00",
                  "17000.0"
                ],
                [
                  "1997-12-31 00:00:00+00:00",
                  "9790.0"
                ],
                [
                  "1998-12-31 00:00:00+00:00",
                  "5380.0"
                ],
                [
                  "1999-12-31 00:00:00+00:00",
                  "8140.0"
                ]
              ],
              "shape": {
                "columns": 1,
                "rows": 75
              }
            },
            "text/html": [
              "<div>\n",
              "<style scoped>\n",
              "    .dataframe tbody tr th:only-of-type {\n",
              "        vertical-align: middle;\n",
              "    }\n",
              "\n",
              "    .dataframe tbody tr th {\n",
              "        vertical-align: top;\n",
              "    }\n",
              "\n",
              "    .dataframe thead th {\n",
              "        text-align: right;\n",
              "    }\n",
              "</style>\n",
              "<table border=\"1\" class=\"dataframe\">\n",
              "  <thead>\n",
              "    <tr style=\"text-align: right;\">\n",
              "      <th></th>\n",
              "      <th>flow_cfs</th>\n",
              "    </tr>\n",
              "    <tr>\n",
              "      <th>datetime</th>\n",
              "      <th></th>\n",
              "    </tr>\n",
              "  </thead>\n",
              "  <tbody>\n",
              "    <tr>\n",
              "      <th>1950-12-31 00:00:00+00:00</th>\n",
              "      <td>3920.0</td>\n",
              "    </tr>\n",
              "    <tr>\n",
              "      <th>1951-12-31 00:00:00+00:00</th>\n",
              "      <td>1900.0</td>\n",
              "    </tr>\n",
              "    <tr>\n",
              "      <th>1952-12-31 00:00:00+00:00</th>\n",
              "      <td>8380.0</td>\n",
              "    </tr>\n",
              "    <tr>\n",
              "      <th>1953-12-31 00:00:00+00:00</th>\n",
              "      <td>5160.0</td>\n",
              "    </tr>\n",
              "    <tr>\n",
              "      <th>1954-12-31 00:00:00+00:00</th>\n",
              "      <td>1200.0</td>\n",
              "    </tr>\n",
              "    <tr>\n",
              "      <th>...</th>\n",
              "      <td>...</td>\n",
              "    </tr>\n",
              "    <tr>\n",
              "      <th>2020-12-31 00:00:00+00:00</th>\n",
              "      <td>1800.0</td>\n",
              "    </tr>\n",
              "    <tr>\n",
              "      <th>2021-12-31 00:00:00+00:00</th>\n",
              "      <td>5170.0</td>\n",
              "    </tr>\n",
              "    <tr>\n",
              "      <th>2022-12-31 00:00:00+00:00</th>\n",
              "      <td>1540.0</td>\n",
              "    </tr>\n",
              "    <tr>\n",
              "      <th>2023-12-31 00:00:00+00:00</th>\n",
              "      <td>6740.0</td>\n",
              "    </tr>\n",
              "    <tr>\n",
              "      <th>2024-12-31 00:00:00+00:00</th>\n",
              "      <td>3770.0</td>\n",
              "    </tr>\n",
              "  </tbody>\n",
              "</table>\n",
              "<p>75 rows × 1 columns</p>\n",
              "</div>"
            ],
            "text/plain": [
              "                           flow_cfs\n",
              "datetime                           \n",
              "1950-12-31 00:00:00+00:00    3920.0\n",
              "1951-12-31 00:00:00+00:00    1900.0\n",
              "1952-12-31 00:00:00+00:00    8380.0\n",
              "1953-12-31 00:00:00+00:00    5160.0\n",
              "1954-12-31 00:00:00+00:00    1200.0\n",
              "...                             ...\n",
              "2020-12-31 00:00:00+00:00    1800.0\n",
              "2021-12-31 00:00:00+00:00    5170.0\n",
              "2022-12-31 00:00:00+00:00    1540.0\n",
              "2023-12-31 00:00:00+00:00    6740.0\n",
              "2024-12-31 00:00:00+00:00    3770.0\n",
              "\n",
              "[75 rows x 1 columns]"
            ]
          },
          "execution_count": 10,
          "metadata": {},
          "output_type": "execute_result"
        }
      ],
      "source": [
        "# Select data from after dam construction\n",
        "postdampeak_df = annualpeak_df.loc['1950':]\n",
        "postdampeak_df"
      ]
    },
    {
      "cell_type": "markdown",
      "id": "a33f6622-3c3b-4caa-8918-f2399ca52aea",
      "metadata": {},
      "source": [
        "### Calculate the exceedance probability and return period for 2019\n",
        "\n",
        "<link rel=\"stylesheet\" type=\"text/css\" href=\"./assets/styles.css\"><div class=\"callout callout-style-default callout-titled callout-extra\"><div class=\"callout-header\"><div class=\"callout-icon-container\"><i class=\"callout-icon\"></i></div><div class=\"callout-title-container flex-fill\">Looking for an Extra Challenge?</div></div><div class=\"callout-body-container callout-body\"><p>Calculate the <strong>exceedance probability</strong> and\n",
        "<strong>return period</strong> for each year of the\n",
        "<strong>annual</strong> data, and add them as columns to your\n",
        "DataFrame.</p>\n",
        "<ol type=\"1\">\n",
        "<li>Replace <code>df</code> with the name of your <strong>annual\n",
        "maximum</strong> <code>DataFrame</code>.</li>\n",
        "<li>Replace <code>col</code> with the name of your streamflow\n",
        "column</li>\n",
        "<li>Calculate the return period using Python mathematical operators</li>\n",
        "</ol></div></div>\n",
        "\n",
        "> **Tip**\n",
        ">\n",
        "> When you use a Python mathematical operator on a `pandas.DataFrame`\n",
        "> column, Python will do the calculation for every row in the\n",
        "> `DataFrame` automatically!\n",
        "\n",
        "> **Tip**\n",
        ">\n",
        "> When you rank the floods in your `DataFrame` with the `.rank()`\n",
        "> method, you will need the\n",
        "> ascending=False`parameter, by default the largest floods will have the higher number. We use`ascending=Falsa\\`\n",
        "> to reverse the rankings, since higher rank should be lower exceedence\n",
        "> probability."
      ]
    },
    {
      "cell_type": "code",
      "execution_count": null,
      "id": "24f4da24",
      "metadata": {
        "template": "student"
      },
      "outputs": [],
      "source": [
        "df['exceed_prob'] = (df.rank(ascending=False).col / len(df))\n",
        "df['return_period'] = \n",
        "\n",
        "peaks_df"
      ]
    },
    {
      "cell_type": "markdown",
      "id": "a1b2e3bb-b968-4ab1-a407-adcdd7943610",
      "metadata": {},
      "source": [
        "<link rel=\"stylesheet\" type=\"text/css\" href=\"./assets/styles.css\"><div class=\"callout callout-style-default callout-titled callout-task\"><div class=\"callout-header\"><div class=\"callout-icon-container\"><i class=\"callout-icon\"></i></div><div class=\"callout-title-container flex-fill\">Try It</div></div><div class=\"callout-body-container callout-body\"><p>Select only the value for 2019.</p>\n",
        "<ol type=\"1\">\n",
        "<li>Replace <code>dataframe_name</code> with the name of your\n",
        "<code>DataFrame</code></li>\n",
        "<li>Inside the square brackets, type the year you want to select (2019).\n",
        "Make sure to surround the year with quotes, or Python will interpret\n",
        "this as a <strong>row number</strong>.</li>\n",
        "</ol></div></div>"
      ]
    },
    {
      "cell_type": "code",
      "execution_count": null,
      "id": "6ada3590",
      "metadata": {
        "template": "student"
      },
      "outputs": [],
      "source": [
        "dataframe_name.loc[]"
      ]
    },
    {
      "cell_type": "markdown",
      "id": "b1046888-ff70-4048-b952-7260a74cfedb",
      "metadata": {},
      "source": [
        "<link rel=\"stylesheet\" type=\"text/css\" href=\"./assets/styles.css\"><div class=\"callout callout-style-default callout-titled callout-respond\"><div class=\"callout-header\"><div class=\"callout-icon-container\"><i class=\"callout-icon\"></i></div><div class=\"callout-title-container flex-fill\">Reflect and Respond</div></div><div class=\"callout-body-container callout-body\"><p>What is the exceedance probability and return period for the 2019\n",
        "floods on the Cheyenne River?</p></div></div>"
      ]
    },
    {
      "cell_type": "markdown",
      "id": "1b183677-b945-455f-a583-2598382e9d49",
      "metadata": {},
      "source": [
        "PROBABILITY AND RETURN PERIOD HERE"
      ]
    },
    {
      "cell_type": "markdown",
      "id": "aaaa3dd7-60b8-426a-923b-7c5e8c56edcc",
      "metadata": {},
      "source": [
        "## Wrap up\n",
        "\n",
        "Don’t forget to store your variables so you can use them in other\n",
        "notebooks! This code will store all your variables. You might want to\n",
        "specify specific variables, especially if you have large objects in\n",
        "memory that you won’t need in the future."
      ]
    },
    {
      "cell_type": "code",
      "execution_count": null,
      "id": "47986c04",
      "metadata": {},
      "outputs": [],
      "source": [
        "%store"
      ]
    },
    {
      "cell_type": "markdown",
      "id": "e99fab4a-f1e0-4c9e-9bc4-68943d363b96",
      "metadata": {},
      "source": [
        "Finally, be sure to `Restart` and `Run all` to make sure your notebook\n",
        "works all the way through!"
      ]
    }
  ],
  "metadata": {
    "kernelspec": {
      "display_name": "base",
      "language": "python",
      "name": "python3"
    },
    "language_info": {
      "codemirror_mode": {
        "name": "ipython",
        "version": 3
      },
      "file_extension": ".py",
      "mimetype": "text/x-python",
      "name": "python",
      "nbconvert_exporter": "python",
      "pygments_lexer": "ipython3",
      "version": "3.11.6"
    }
  },
  "nbformat": 4,
  "nbformat_minor": 5
}
